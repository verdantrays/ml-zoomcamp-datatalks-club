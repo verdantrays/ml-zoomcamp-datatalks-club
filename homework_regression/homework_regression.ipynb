{
 "cells": [
  {
   "cell_type": "code",
   "execution_count": 151,
   "id": "fe4e60ab",
   "metadata": {},
   "outputs": [],
   "source": [
    "import pandas as pd\n",
    "import numpy as np\n",
    "from sklearn.model_selection import train_test_split\n",
    "from sklearn.linear_model import LinearRegression\n",
    "from sklearn.metrics import mean_squared_error\n",
    "from sklearn.linear_model import Ridge"
   ]
  },
  {
   "cell_type": "code",
   "execution_count": 152,
   "id": "8087db76",
   "metadata": {},
   "outputs": [],
   "source": [
    "df = pd.read_csv(\"car_fuel_efficiency.csv\")"
   ]
  },
  {
   "cell_type": "markdown",
   "id": "ed8e7703",
   "metadata": {},
   "source": [
    "## **Q1**\n",
    "#### There's one column with missing values. What is it?\n",
    "\n",
    "- 'engine_displacement'\n",
    "- 'horsepower'\n",
    "- 'vehicle_weight'\n",
    "- 'model_year'"
   ]
  },
  {
   "cell_type": "code",
   "execution_count": 153,
   "id": "9edf79d8",
   "metadata": {},
   "outputs": [
    {
     "name": "stdout",
     "output_type": "stream",
     "text": [
      "<class 'pandas.core.frame.DataFrame'>\n",
      "RangeIndex: 9704 entries, 0 to 9703\n",
      "Data columns (total 11 columns):\n",
      " #   Column               Non-Null Count  Dtype  \n",
      "---  ------               --------------  -----  \n",
      " 0   engine_displacement  9704 non-null   int64  \n",
      " 1   num_cylinders        9222 non-null   float64\n",
      " 2   horsepower           8996 non-null   float64\n",
      " 3   vehicle_weight       9704 non-null   float64\n",
      " 4   acceleration         8774 non-null   float64\n",
      " 5   model_year           9704 non-null   int64  \n",
      " 6   origin               9704 non-null   object \n",
      " 7   fuel_type            9704 non-null   object \n",
      " 8   drivetrain           9704 non-null   object \n",
      " 9   num_doors            9202 non-null   float64\n",
      " 10  fuel_efficiency_mpg  9704 non-null   float64\n",
      "dtypes: float64(6), int64(2), object(3)\n",
      "memory usage: 834.1+ KB\n"
     ]
    }
   ],
   "source": [
    "df.info()"
   ]
  },
  {
   "cell_type": "markdown",
   "id": "64c397a2",
   "metadata": {},
   "source": [
    "answer: horsepower"
   ]
  },
  {
   "cell_type": "markdown",
   "id": "e727117f",
   "metadata": {},
   "source": [
    "## **Q2**\n",
    "#### What's the median (50% percentile) for variable 'horsepower'?"
   ]
  },
  {
   "cell_type": "code",
   "execution_count": 154,
   "id": "8c2a1bb7",
   "metadata": {},
   "outputs": [
    {
     "data": {
      "text/plain": [
       "149.0"
      ]
     },
     "execution_count": 154,
     "metadata": {},
     "output_type": "execute_result"
    }
   ],
   "source": [
    "df[\"horsepower\"].median()"
   ]
  },
  {
   "cell_type": "markdown",
   "id": "34934293",
   "metadata": {},
   "source": [
    "## **Prepare and split the dataset**\n",
    "\n",
    "#### - Shuffle the dataset (the filtered one you created above), use seed 42.\n",
    "#### - Split your data in train/val/test sets, with 60%/20%/20% distribution.\n",
    "\n",
    "#### Use the same code as in the lectures"
   ]
  },
  {
   "cell_type": "code",
   "execution_count": 155,
   "id": "856e324e",
   "metadata": {},
   "outputs": [],
   "source": [
    "df_shuffled = df.sample(frac=1, random_state=42)"
   ]
  },
  {
   "cell_type": "code",
   "execution_count": 156,
   "id": "405b5929",
   "metadata": {},
   "outputs": [],
   "source": [
    "n = len(df_shuffled)\n",
    "n_train = int(0.6 * n)\n",
    "n_val = int(0.2 * n)\n",
    "n_test = n - n_train - n_val\n",
    "\n",
    "df_train = df_shuffled.iloc[:n_train]\n",
    "df_val = df_shuffled.iloc[n_train:n_train+n_val]\n",
    "df_test = df_shuffled.iloc[n_train+n_val:]"
   ]
  },
  {
   "cell_type": "code",
   "execution_count": 157,
   "id": "89f12dc1",
   "metadata": {},
   "outputs": [],
   "source": [
    "y_train = df_train['fuel_efficiency_mpg'].values\n",
    "y_val = df_val['fuel_efficiency_mpg'].values\n",
    "\n",
    "X_train = df_train.drop('fuel_efficiency_mpg', axis=1)\n",
    "X_val = df_val.drop('fuel_efficiency_mpg', axis=1)"
   ]
  },
  {
   "cell_type": "markdown",
   "id": "7ae1b4b1",
   "metadata": {},
   "source": [
    "## **Q3**\n",
    "#### - We need to deal with missing values for the column from Q1.\n",
    "#### - We have two options: fill it with 0 or with the mean of this variable.\n",
    "#### - Try both options. For each, train a linear regression model without regularization using the code from the lessons.\n",
    "#### - For computing the mean, use the training only!\n",
    "#### - Use the validation dataset to evaluate the models and compare the RMSE of each option.\n",
    "#### - Round the RMSE scores to 2 decimal digits using round(score, 2)\n",
    "\n",
    "#### Which option gives better RMSE?"
   ]
  },
  {
   "cell_type": "code",
   "execution_count": 158,
   "id": "b39f775b",
   "metadata": {},
   "outputs": [],
   "source": [
    "X_train_zero = X_train.copy()\n",
    "X_val_zero = X_val.copy()\n",
    "\n",
    "X_train_mean = X_train.copy()\n",
    "X_val_mean = X_val.copy()\n",
    "\n",
    "X_train_zero['horsepower'] = X_train_zero['horsepower'].fillna(0)\n",
    "X_val_zero['horsepower'] = X_val_zero['horsepower'].fillna(0)\n",
    "\n",
    "mean_hp = X_train['horsepower'].mean()\n",
    "X_train_mean['horsepower'] = X_train_mean['horsepower'].fillna(mean_hp)\n",
    "X_val_mean['horsepower'] = X_val_mean['horsepower'].fillna(mean_hp)\n",
    "\n",
    "X_train_zero = X_train_zero.fillna(X_train_zero.mean(numeric_only=True))\n",
    "X_val_zero = X_val_zero.fillna(X_train_zero.mean(numeric_only=True))\n",
    "X_train_mean = X_train_mean.fillna(X_train_mean.mean(numeric_only=True))\n",
    "X_val_mean = X_val_mean.fillna(X_train_mean.mean(numeric_only=True))"
   ]
  },
  {
   "cell_type": "code",
   "execution_count": 159,
   "id": "3a66ff7c",
   "metadata": {},
   "outputs": [
    {
     "name": "stdout",
     "output_type": "stream",
     "text": [
      "RMSE (fill with 0): 0.46\n",
      "RMSE (fill with mean): 0.39\n",
      "Better option: Fill with mean\n"
     ]
    },
    {
     "name": "stderr",
     "output_type": "stream",
     "text": [
      "c:\\Users\\ELITEBOOK830\\AppData\\Local\\Programs\\Python\\Python312\\Lib\\site-packages\\sklearn\\metrics\\_regression.py:492: FutureWarning: 'squared' is deprecated in version 1.4 and will be removed in 1.6. To calculate the root mean squared error, use the function'root_mean_squared_error'.\n",
      "  warnings.warn(\n",
      "c:\\Users\\ELITEBOOK830\\AppData\\Local\\Programs\\Python\\Python312\\Lib\\site-packages\\sklearn\\metrics\\_regression.py:492: FutureWarning: 'squared' is deprecated in version 1.4 and will be removed in 1.6. To calculate the root mean squared error, use the function'root_mean_squared_error'.\n",
      "  warnings.warn(\n"
     ]
    }
   ],
   "source": [
    "model_zero = LinearRegression()\n",
    "model_zero.fit(X_train_zero.select_dtypes(include=[np.number]), y_train)\n",
    "y_pred_zero = model_zero.predict(X_val_zero.select_dtypes(include=[np.number]))\n",
    "rmse_zero = mean_squared_error(y_val, y_pred_zero, squared=False)\n",
    "\n",
    "model_mean = LinearRegression()\n",
    "model_mean.fit(X_train_mean.select_dtypes(include=[np.number]), y_train)\n",
    "y_pred_mean = model_mean.predict(X_val_mean.select_dtypes(include=[np.number]))\n",
    "rmse_mean = mean_squared_error(y_val, y_pred_mean, squared=False)\n",
    "\n",
    "print(\"RMSE (fill with 0):\", round(rmse_zero, 2))\n",
    "print(\"RMSE (fill with mean):\", round(rmse_mean, 2))\n",
    "\n",
    "if round(rmse_zero, 2) < round(rmse_mean, 2):\n",
    "    print(\"Better option: Fill with 0\")\n",
    "elif round(rmse_mean, 2) < round(rmse_zero, 2):\n",
    "    print(\"Better option: Fill with mean\")\n",
    "else:\n",
    "    print(\"Both are equally good\")"
   ]
  },
  {
   "cell_type": "markdown",
   "id": "57c492c5",
   "metadata": {},
   "source": [
    "## **Q4**\n",
    "#### 1. Now let's train a regularized linear regression.\n",
    "#### 2. For this question, fill the NAs with 0.\n",
    "#### 3. Try different values of r from this list: [0, 0.01, 0.1, 1, 5, 10, 100].\n",
    "#### 4. Use RMSE to evaluate the model on the validation dataset.\n",
    "#### 5. Round the RMSE scores to 2 decimal digits.\n",
    "#### 6. Which r gives the best RMSE?\n",
    "\n",
    "#### If multiple options give the same best RMSE, select the smallest r."
   ]
  },
  {
   "cell_type": "code",
   "execution_count": 160,
   "id": "1ee662c1",
   "metadata": {},
   "outputs": [],
   "source": [
    "X_train_0 = X_train.fillna(0)\n",
    "X_val_0 = X_val.fillna(0)\n",
    "\n",
    "X_train_0 = pd.get_dummies(X_train_0, drop_first=True)\n",
    "X_val_0 = pd.get_dummies(X_val_0, drop_first=True)\n",
    "\n",
    "X_val_0 = X_val_0.reindex(columns=X_train_0.columns, fill_value=0)"
   ]
  },
  {
   "cell_type": "code",
   "execution_count": 161,
   "id": "8a957bba",
   "metadata": {},
   "outputs": [],
   "source": [
    "r_values = [0, 0.01, 0.1, 1, 5, 10, 100]"
   ]
  },
  {
   "cell_type": "code",
   "execution_count": 162,
   "id": "7141a2aa",
   "metadata": {},
   "outputs": [
    {
     "data": {
      "text/plain": [
       "{0: 0.51, 0.01: 0.51, 0.1: 0.51, 1: 0.51, 5: 0.51, 10: 0.51, 100: 0.51}"
      ]
     },
     "execution_count": 162,
     "metadata": {},
     "output_type": "execute_result"
    }
   ],
   "source": [
    "results = {}\n",
    "\n",
    "for r in r_values:\n",
    "    model = Ridge(alpha=r)\n",
    "    model.fit(X_train_0, y_train)\n",
    "    y_pred = model.predict(X_val_0)\n",
    "    rmse = np.sqrt(mean_squared_error(y_val, y_pred))\n",
    "    results[r] = round(rmse, 2)\n",
    "\n",
    "results"
   ]
  },
  {
   "cell_type": "code",
   "execution_count": 163,
   "id": "4d17aa7c",
   "metadata": {},
   "outputs": [
    {
     "name": "stdout",
     "output_type": "stream",
     "text": [
      "Best r: 0 → RMSE: 0.51\n"
     ]
    }
   ],
   "source": [
    "best_r = min(results, key=results.get)\n",
    "print(\"Best r:\", best_r, \"→ RMSE:\", results[best_r])"
   ]
  },
  {
   "cell_type": "markdown",
   "id": "60f2fd27",
   "metadata": {},
   "source": [
    "## **Q5**\n",
    "\n",
    "#### 1. We used seed 42 for splitting the data. Let's find out how selecting the seed influences our score.\n",
    "#### 2. Try different seed values: [0, 1, 2, 3, 4, 5, 6, 7, 8, 9].\n",
    "#### 3. For each seed, do the train/validation/test split with 60%/20%/20% distribution.\n",
    "#### 4. Fill the missing values with 0 and train a model without regularization.\n",
    "#### 5. For each seed, evaluate the model on the validation dataset and collect the RMSE scores.\n",
    "#### 6. What's the standard deviation of all the scores? To compute the standard deviation, use np.std.\n",
    "#### 7. Round the result to 3 decimal digits (round(std, 3))"
   ]
  },
  {
   "cell_type": "code",
   "execution_count": 164,
   "id": "d0b50c2a",
   "metadata": {},
   "outputs": [
    {
     "name": "stdout",
     "output_type": "stream",
     "text": [
      "RMSE per seed: [0.5093576292583686, 0.5109172467498379, 0.5114451480461776, 0.506579263729307, 0.4982068079989254, 0.5156193854317062, 0.5195245878381457, 0.49626277833285615, 0.5019844968110262, 0.49958637214952595]\n",
      "Standard deviation: 0.007\n"
     ]
    }
   ],
   "source": [
    "rmse_scores = []\n",
    "\n",
    "seeds = [0,1,2,3,4,5,6,7,8,9]\n",
    "\n",
    "for seed in seeds:\n",
    "    df_shuffled = df.sample(frac=1, random_state=seed)\n",
    "    \n",
    "    n = len(df_shuffled)\n",
    "    n_train = int(0.6 * n)\n",
    "    n_val = int(0.2 * n)\n",
    "    \n",
    "    df_train = df_shuffled.iloc[:n_train]\n",
    "    df_val = df_shuffled.iloc[n_train:n_train+n_val]\n",
    "    df_test = df_shuffled.iloc[n_train+n_val:]\n",
    "\n",
    "    df_train_0 = df_train.fillna(0)\n",
    "    df_val_0 = df_val.fillna(0)\n",
    "\n",
    "    X_train = df_train_0.drop(columns=['fuel_efficiency_mpg'])\n",
    "    y_train = df_train_0['fuel_efficiency_mpg']\n",
    "    X_val = df_val_0.drop(columns=['fuel_efficiency_mpg'])\n",
    "    y_val = df_val_0['fuel_efficiency_mpg']\n",
    "\n",
    "    X_train = pd.get_dummies(X_train, drop_first=True)\n",
    "    X_val = pd.get_dummies(X_val, drop_first=True)\n",
    "    X_val = X_val.reindex(columns=X_train.columns, fill_value=0)\n",
    "\n",
    "    model = LinearRegression()\n",
    "    model.fit(X_train, y_train)\n",
    "    y_pred = model.predict(X_val)\n",
    "\n",
    "    rmse = np.sqrt(mean_squared_error(y_val, y_pred))\n",
    "    rmse_scores.append(rmse)\n",
    "\n",
    "std = np.std(rmse_scores)\n",
    "print(\"RMSE per seed:\", rmse_scores)\n",
    "print(\"Standard deviation:\", round(std, 3))"
   ]
  },
  {
   "cell_type": "markdown",
   "id": "5011a443",
   "metadata": {},
   "source": [
    "## **Q6**\n",
    "\n",
    "#### 1. Split the dataset like previously, use seed 9.\n",
    "\n",
    "#### 2. Combine train and validation datasets.\n",
    "\n",
    "#### 3. Fill the missing values with 0 and train a model with r=0.001.\n",
    "\n",
    "#### 4. What's the RMSE on the test dataset?"
   ]
  },
  {
   "cell_type": "code",
   "execution_count": 165,
   "id": "f1f6aaed",
   "metadata": {},
   "outputs": [
    {
     "name": "stdout",
     "output_type": "stream",
     "text": [
      "RMSE on test: 0.502\n"
     ]
    }
   ],
   "source": [
    "seed = 9\n",
    "df_shuffled = df.sample(frac=1, random_state=seed)\n",
    "\n",
    "n = len(df_shuffled)\n",
    "n_train = int(0.6 * n)\n",
    "n_val = int(0.2 * n)\n",
    "\n",
    "df_train = df_shuffled.iloc[:n_train].copy()\n",
    "df_val   = df_shuffled.iloc[n_train:n_train + n_val].copy()\n",
    "df_test  = df_shuffled.iloc[n_train + n_val:].copy()\n",
    "\n",
    "df_trainval = pd.concat([df_train, df_val], ignore_index=True)\n",
    "\n",
    "df_trainval = df_trainval.fillna(0)\n",
    "df_test = df_test.fillna(0)\n",
    "\n",
    "y_trainval = df_trainval['fuel_efficiency_mpg'].values\n",
    "X_trainval = df_trainval.drop(columns=['fuel_efficiency_mpg'])\n",
    "\n",
    "y_test = df_test['fuel_efficiency_mpg'].values\n",
    "X_test = df_test.drop(columns=['fuel_efficiency_mpg'])\n",
    "\n",
    "X_trainval = pd.get_dummies(X_trainval, drop_first=True)\n",
    "X_test = pd.get_dummies(X_test, drop_first=True)\n",
    "\n",
    "X_test = X_test.reindex(columns=X_trainval.columns, fill_value=0)\n",
    "\n",
    "model = Ridge(alpha=0.001)\n",
    "model.fit(X_trainval, y_trainval)\n",
    "\n",
    "y_pred_test = model.predict(X_test)\n",
    "rmse_test = np.sqrt(mean_squared_error(y_test, y_pred_test))\n",
    "\n",
    "print(\"RMSE on test:\", round(rmse_test, 3))"
   ]
  }
 ],
 "metadata": {
  "kernelspec": {
   "display_name": "Python 3",
   "language": "python",
   "name": "python3"
  },
  "language_info": {
   "codemirror_mode": {
    "name": "ipython",
    "version": 3
   },
   "file_extension": ".py",
   "mimetype": "text/x-python",
   "name": "python",
   "nbconvert_exporter": "python",
   "pygments_lexer": "ipython3",
   "version": "3.12.6"
  }
 },
 "nbformat": 4,
 "nbformat_minor": 5
}
