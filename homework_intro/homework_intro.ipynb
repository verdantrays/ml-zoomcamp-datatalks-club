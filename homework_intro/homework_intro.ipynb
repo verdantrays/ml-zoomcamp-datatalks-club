{
 "cells": [
  {
   "cell_type": "markdown",
   "id": "ad5211da",
   "metadata": {},
   "source": [
    "IMPORT PANDAS and NUMPY"
   ]
  },
  {
   "cell_type": "code",
   "execution_count": 42,
   "id": "2049d250",
   "metadata": {},
   "outputs": [],
   "source": [
    "import pandas as pd\n",
    "import numpy as np"
   ]
  },
  {
   "cell_type": "markdown",
   "id": "ce8901f5",
   "metadata": {},
   "source": [
    "## **Q1. Pandas version**\n",
    "\n",
    "#### What's the version of Pandas that you installed?"
   ]
  },
  {
   "cell_type": "code",
   "execution_count": 5,
   "id": "412f1d67",
   "metadata": {},
   "outputs": [
    {
     "data": {
      "text/plain": [
       "'2.2.3'"
      ]
     },
     "execution_count": 5,
     "metadata": {},
     "output_type": "execute_result"
    }
   ],
   "source": [
    "pd.__version__"
   ]
  },
  {
   "cell_type": "markdown",
   "id": "4ee89ba1",
   "metadata": {},
   "source": [
    "## **Q2. Records Count**\n",
    "\n",
    "#### How many records are in the dataset?"
   ]
  },
  {
   "cell_type": "code",
   "execution_count": 6,
   "id": "17b6d02d",
   "metadata": {},
   "outputs": [],
   "source": [
    "data= pd.read_csv(\"car_fuel_efficiency.csv\")"
   ]
  },
  {
   "cell_type": "code",
   "execution_count": 44,
   "id": "6c14174d",
   "metadata": {},
   "outputs": [
    {
     "data": {
      "text/plain": [
       "9704"
      ]
     },
     "execution_count": 44,
     "metadata": {},
     "output_type": "execute_result"
    }
   ],
   "source": [
    "len(data)"
   ]
  },
  {
   "cell_type": "markdown",
   "id": "d00fb08f",
   "metadata": {},
   "source": [
    "## **Q3. Fuel types**\n",
    "\n",
    "#### How many fuel types are presented in the dataset?"
   ]
  },
  {
   "cell_type": "code",
   "execution_count": 8,
   "id": "6d19a888",
   "metadata": {},
   "outputs": [
    {
     "data": {
      "text/plain": [
       "2"
      ]
     },
     "execution_count": 8,
     "metadata": {},
     "output_type": "execute_result"
    }
   ],
   "source": [
    "data[\"fuel_type\"].nunique()"
   ]
  },
  {
   "cell_type": "markdown",
   "id": "fcfd9a4f",
   "metadata": {},
   "source": [
    "## **Q4. Missing values**\n",
    "\n",
    "#### How many columns in the dataset have missing values?"
   ]
  },
  {
   "cell_type": "code",
   "execution_count": 9,
   "id": "8a97b656",
   "metadata": {},
   "outputs": [
    {
     "data": {
      "text/plain": [
       "4"
      ]
     },
     "execution_count": 9,
     "metadata": {},
     "output_type": "execute_result"
    }
   ],
   "source": [
    "(data.isnull().sum()>0).sum()"
   ]
  },
  {
   "cell_type": "markdown",
   "id": "a6f57281",
   "metadata": {},
   "source": [
    "## **Q5. Max fuel efficiency**\n",
    "\n",
    "#### What's the maximum fuel efficiency of cars from Asia?"
   ]
  },
  {
   "cell_type": "code",
   "execution_count": 16,
   "id": "1d051bd5",
   "metadata": {},
   "outputs": [
    {
     "data": {
      "text/plain": [
       "23.759122836520497"
      ]
     },
     "execution_count": 16,
     "metadata": {},
     "output_type": "execute_result"
    }
   ],
   "source": [
    "data[data[\"origin\"]==\"Asia\"][\"fuel_efficiency_mpg\"].max()"
   ]
  },
  {
   "cell_type": "markdown",
   "id": "68ef0d54",
   "metadata": {},
   "source": [
    "## **Q6. Median value of horsepower**\n",
    "\n",
    "#### 1. Find the median value of horsepower column in the dataset.\n",
    "\n",
    "#### 2. Next, calculate the most frequent value of the same horsepower column.\n",
    "\n",
    "#### 3. Use fillna method to fill the missing values in horsepower column with the most frequent value from the previous step.\n",
    "\n",
    "#### 4. Now, calculate the median value of horsepower once again.\n",
    "\n",
    "#### Has it changed?"
   ]
  },
  {
   "cell_type": "code",
   "execution_count": 21,
   "id": "8dbe28be",
   "metadata": {},
   "outputs": [
    {
     "data": {
      "text/plain": [
       "149.0"
      ]
     },
     "execution_count": 21,
     "metadata": {},
     "output_type": "execute_result"
    }
   ],
   "source": [
    "data[\"horsepower\"].median()"
   ]
  },
  {
   "cell_type": "code",
   "execution_count": 22,
   "id": "07b026bd",
   "metadata": {},
   "outputs": [
    {
     "data": {
      "text/plain": [
       "0    152.0\n",
       "Name: horsepower, dtype: float64"
      ]
     },
     "execution_count": 22,
     "metadata": {},
     "output_type": "execute_result"
    }
   ],
   "source": [
    "data[\"horsepower\"].mode()"
   ]
  },
  {
   "cell_type": "code",
   "execution_count": 24,
   "id": "5d968a58",
   "metadata": {},
   "outputs": [],
   "source": [
    "mode=data[\"horsepower\"].mode()[0]\n",
    "data[\"horsepower\"] = data[\"horsepower\"].fillna(mode)"
   ]
  },
  {
   "cell_type": "code",
   "execution_count": 25,
   "id": "a57814e2",
   "metadata": {},
   "outputs": [
    {
     "data": {
      "text/plain": [
       "152.0"
      ]
     },
     "execution_count": 25,
     "metadata": {},
     "output_type": "execute_result"
    }
   ],
   "source": [
    "data[\"horsepower\"].median()"
   ]
  },
  {
   "cell_type": "markdown",
   "id": "237f605a",
   "metadata": {},
   "source": [
    "Answer: Yes, it increased"
   ]
  },
  {
   "cell_type": "markdown",
   "id": "6ea2b6b6",
   "metadata": {},
   "source": [
    "## **Q7. Sum of weights**\n",
    "\n",
    "#### 1. Select all the cars from Asia\n",
    "\n",
    "#### 2. Select only columns vehicle_weight and model_year\n",
    "\n",
    "#### 3. Select the first 7 values\n",
    "\n",
    "#### 4. Get the underlying NumPy array. Let's call it X.\n",
    "\n",
    "#### 5. Compute matrix-matrix multiplication between the transpose of X and X. To get the transpose, use X.T. Let's call the result XTX.\n",
    "\n",
    "#### 6. Invert XTX.\n",
    "\n",
    "#### 7. Create an array y with values [1100, 1300, 800, 900, 1000, 1100, 1200].\n",
    "\n",
    "#### 8. Multiply the inverse of XTX with the transpose of X, and then multiply the result by y. Call the result w.\n",
    "\n",
    "#### 9. What's the sum of all the elements of the result?"
   ]
  },
  {
   "cell_type": "code",
   "execution_count": 27,
   "id": "8a26b098",
   "metadata": {},
   "outputs": [],
   "source": [
    "asia_cars = data[data[\"origin\"] == \"Asia\"]"
   ]
  },
  {
   "cell_type": "code",
   "execution_count": 28,
   "id": "a9fe4730",
   "metadata": {},
   "outputs": [],
   "source": [
    "selected_data = asia_cars[[\"vehicle_weight\", \"model_year\"]]"
   ]
  },
  {
   "cell_type": "code",
   "execution_count": 33,
   "id": "545355ab",
   "metadata": {},
   "outputs": [],
   "source": [
    "selected_data = selected_data.head(7)"
   ]
  },
  {
   "cell_type": "code",
   "execution_count": 34,
   "id": "f9581cc1",
   "metadata": {},
   "outputs": [],
   "source": [
    "X = selected_data.to_numpy()"
   ]
  },
  {
   "cell_type": "code",
   "execution_count": 35,
   "id": "8bc3ba53",
   "metadata": {},
   "outputs": [],
   "source": [
    "XTX = X.T @ X"
   ]
  },
  {
   "cell_type": "code",
   "execution_count": 38,
   "id": "1a0db8c6",
   "metadata": {},
   "outputs": [],
   "source": [
    "XTX_inv = np.linalg.inv(XTX)"
   ]
  },
  {
   "cell_type": "code",
   "execution_count": 39,
   "id": "0462db16",
   "metadata": {},
   "outputs": [],
   "source": [
    "y = np.array([1100, 1300, 800, 900, 1000, 1100, 1200])"
   ]
  },
  {
   "cell_type": "code",
   "execution_count": 40,
   "id": "7ba63248",
   "metadata": {},
   "outputs": [],
   "source": [
    "w = XTX_inv @ X.T @ y"
   ]
  },
  {
   "cell_type": "code",
   "execution_count": 41,
   "id": "3ac523db",
   "metadata": {},
   "outputs": [
    {
     "name": "stdout",
     "output_type": "stream",
     "text": [
      "0.5187709081074016\n"
     ]
    }
   ],
   "source": [
    "total = w.sum()\n",
    "print(total)"
   ]
  }
 ],
 "metadata": {
  "kernelspec": {
   "display_name": "Python 3",
   "language": "python",
   "name": "python3"
  },
  "language_info": {
   "codemirror_mode": {
    "name": "ipython",
    "version": 3
   },
   "file_extension": ".py",
   "mimetype": "text/x-python",
   "name": "python",
   "nbconvert_exporter": "python",
   "pygments_lexer": "ipython3",
   "version": "3.12.6"
  }
 },
 "nbformat": 4,
 "nbformat_minor": 5
}
